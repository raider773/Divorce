{
 "cells": [
  {
   "cell_type": "code",
   "execution_count": 1,
   "id": "black-tours",
   "metadata": {},
   "outputs": [],
   "source": [
    "import pandas as pd\n",
    "import numpy as np\n",
    "import json\n",
    "import pickle\n",
    "from flask import  Flask, request, jsonify, render_template"
   ]
  },
  {
   "cell_type": "code",
   "execution_count": 2,
   "id": "subsequent-newsletter",
   "metadata": {},
   "outputs": [],
   "source": [
    "app = Flask('Divorce_Prediction')"
   ]
  },
  {
   "cell_type": "code",
   "execution_count": 3,
   "id": "general-islam",
   "metadata": {},
   "outputs": [],
   "source": [
    "@app.route('/api',methods=['POST'])\n",
    "def predict_divorce():    \n",
    "    data = request.get_json(force=True)   \n",
    "    data = data['features'][0]\n",
    "    data = np.array(data).reshape(1, -1)\n",
    "    \n",
    "   \n",
    "    import pickle\n",
    "    \n",
    "    with open('model_scaler.pkl', 'rb') as f_model_scaler:\n",
    "        scaler = pickle.load(f_model_scaler) \n",
    "    \n",
    "    with open('model_lda.pkl', 'rb') as f_model:\n",
    "        modelo = pickle.load(f_model)   \n",
    "    \n",
    "    prediction = modelo.predict(scaler.transform(data))        \n",
    "    \n",
    "    return(str(prediction[0]))"
   ]
  },
  {
   "cell_type": "code",
   "execution_count": 4,
   "id": "structured-genre",
   "metadata": {},
   "outputs": [
    {
     "name": "stdout",
     "output_type": "stream",
     "text": [
      " * Serving Flask app \"Divorce_Prediction\" (lazy loading)\n",
      " * Environment: production\n",
      "   WARNING: This is a development server. Do not use it in a production deployment.\n",
      "   Use a production WSGI server instead.\n",
      " * Debug mode: off\n"
     ]
    },
    {
     "name": "stderr",
     "output_type": "stream",
     "text": [
      " * Running on http://0.0.0.0:5000/ (Press CTRL+C to quit)\n",
      "127.0.0.1 - - [18/May/2021 15:10:13] \"\u001b[37mPOST /api HTTP/1.1\u001b[0m\" 200 -\n"
     ]
    }
   ],
   "source": [
    "app.run(host='0.0.0.0')"
   ]
  }
 ],
 "metadata": {
  "kernelspec": {
   "display_name": "Python 3",
   "language": "python",
   "name": "python3"
  },
  "language_info": {
   "codemirror_mode": {
    "name": "ipython",
    "version": 3
   },
   "file_extension": ".py",
   "mimetype": "text/x-python",
   "name": "python",
   "nbconvert_exporter": "python",
   "pygments_lexer": "ipython3",
   "version": "3.7.10"
  }
 },
 "nbformat": 4,
 "nbformat_minor": 5
}
