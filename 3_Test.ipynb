{
 "cells": [
  {
   "cell_type": "code",
   "execution_count": 1,
   "id": "prime-actress",
   "metadata": {},
   "outputs": [],
   "source": [
    "import requests\n",
    "import pandas as pd\n",
    "import numpy as np"
   ]
  },
  {
   "cell_type": "code",
   "execution_count": 2,
   "id": "smooth-exclusion",
   "metadata": {},
   "outputs": [],
   "source": [
    "def request (url,features): \n",
    "    \n",
    "    r = requests.post(url,\n",
    "                  json = {'features':[features]})  \n",
    "    \n",
    "    if r.text == '0':\n",
    "        result = \"Congrats you keeping him/her\"\n",
    "    elif r.text == '1':\n",
    "        result = \"Well, i've got bad news for you\"\n",
    "    \n",
    "    return result"
   ]
  },
  {
   "cell_type": "code",
   "execution_count": 3,
   "id": "quarterly-cooking",
   "metadata": {},
   "outputs": [],
   "source": [
    "def Questions():\n",
    "    answers=[]\n",
    "    print(\"You will be asked a series of questions. Please respond with a number between 0 and 4, where 0 is not agree at all and 4 is agreeing completely\")\n",
    "    print()\n",
    "    print()\n",
    "    file1 = open('attributes.txt', 'r')\n",
    "    Lines = file1.readlines()\n",
    "    for line in Lines:    \n",
    "        print(line.strip())   \n",
    "        while True:\n",
    "            \n",
    "            try:                \n",
    "                answer = int(input(\"answer: \"))\n",
    "                while answer <0 or answer > 4:\n",
    "                    raise ValueError\n",
    "                break\n",
    "            except ValueError:\n",
    "                 print(\"Oops!  That was no valid number.  Try again...\")   \n",
    "        answers.append(answer) \n",
    "    return answers"
   ]
  },
  {
   "cell_type": "code",
   "execution_count": 4,
   "id": "proud-elimination",
   "metadata": {},
   "outputs": [
    {
     "name": "stdout",
     "output_type": "stream",
     "text": [
      "You will be asked a series of questions. Please respond with a number between 0 and 4, where 0 is not agree at all and 4 is agreeing completely\n",
      "\n",
      "\n",
      "1. If one of us apologizes when our discussion deteriorates, the discussion ends.\n"
     ]
    },
    {
     "name": "stdin",
     "output_type": "stream",
     "text": [
      "answer:  4\n"
     ]
    },
    {
     "name": "stdout",
     "output_type": "stream",
     "text": [
      "2. I know we can ignore our differences, even if things get hard sometimes.\n"
     ]
    },
    {
     "name": "stdin",
     "output_type": "stream",
     "text": [
      "answer:  4\n"
     ]
    },
    {
     "name": "stdout",
     "output_type": "stream",
     "text": [
      "3. When we need it, we can take our discussions with my spouse from the beginning and correct it.\n"
     ]
    },
    {
     "name": "stdin",
     "output_type": "stream",
     "text": [
      "answer:  4\n"
     ]
    },
    {
     "name": "stdout",
     "output_type": "stream",
     "text": [
      "4. When I discuss with my spouse, to contact him will eventually work.\n"
     ]
    },
    {
     "name": "stdin",
     "output_type": "stream",
     "text": [
      "answer:  4\n"
     ]
    },
    {
     "name": "stdout",
     "output_type": "stream",
     "text": [
      "5. The time I spent with my wife is special for us.\n"
     ]
    },
    {
     "name": "stdin",
     "output_type": "stream",
     "text": [
      "answer:  4\n"
     ]
    },
    {
     "name": "stdout",
     "output_type": "stream",
     "text": [
      "6. We don't have time at home as partners.\n"
     ]
    },
    {
     "name": "stdin",
     "output_type": "stream",
     "text": [
      "answer:  0\n"
     ]
    },
    {
     "name": "stdout",
     "output_type": "stream",
     "text": [
      "7. We are like two strangers who share the same environment at home rather than family.\n"
     ]
    },
    {
     "name": "stdin",
     "output_type": "stream",
     "text": [
      "answer:  0\n"
     ]
    },
    {
     "name": "stdout",
     "output_type": "stream",
     "text": [
      "8. I enjoy our holidays with my wife.\n"
     ]
    },
    {
     "name": "stdin",
     "output_type": "stream",
     "text": [
      "answer:  4\n"
     ]
    },
    {
     "name": "stdout",
     "output_type": "stream",
     "text": [
      "9. I enjoy traveling with my wife.\n"
     ]
    },
    {
     "name": "stdin",
     "output_type": "stream",
     "text": [
      "answer:  4\n"
     ]
    },
    {
     "name": "stdout",
     "output_type": "stream",
     "text": [
      "10. Most of our goals are common to my spouse.\n"
     ]
    },
    {
     "name": "stdin",
     "output_type": "stream",
     "text": [
      "answer:  4\n"
     ]
    },
    {
     "name": "stdout",
     "output_type": "stream",
     "text": [
      "11. I think that one day in the future, when I look back, I see that my spouse and I have been in harmony with each other.\n"
     ]
    },
    {
     "name": "stdin",
     "output_type": "stream",
     "text": [
      "answer:  4\n"
     ]
    },
    {
     "name": "stdout",
     "output_type": "stream",
     "text": [
      "12. My spouse and I have similar values in terms of personal freedom.\n"
     ]
    },
    {
     "name": "stdin",
     "output_type": "stream",
     "text": [
      "answer:  4\n"
     ]
    },
    {
     "name": "stdout",
     "output_type": "stream",
     "text": [
      "13. My spouse and I have similar sense of entertainment.\n"
     ]
    },
    {
     "name": "stdin",
     "output_type": "stream",
     "text": [
      "answer:  4\n"
     ]
    },
    {
     "name": "stdout",
     "output_type": "stream",
     "text": [
      "14. Most of our goals for people (children, friends, etc.) are the same.\n"
     ]
    },
    {
     "name": "stdin",
     "output_type": "stream",
     "text": [
      "answer:  4\n"
     ]
    },
    {
     "name": "stdout",
     "output_type": "stream",
     "text": [
      "15. Our dreams with my spouse are similar and harmonious.\n"
     ]
    },
    {
     "name": "stdin",
     "output_type": "stream",
     "text": [
      "answer:  4\n"
     ]
    },
    {
     "name": "stdout",
     "output_type": "stream",
     "text": [
      "16. We're compatible with my spouse about what love should be.\n"
     ]
    },
    {
     "name": "stdin",
     "output_type": "stream",
     "text": [
      "answer:  4\n"
     ]
    },
    {
     "name": "stdout",
     "output_type": "stream",
     "text": [
      "17. We share the same views about being happy in our life with my spouse\n"
     ]
    },
    {
     "name": "stdin",
     "output_type": "stream",
     "text": [
      "answer:  4\n"
     ]
    },
    {
     "name": "stdout",
     "output_type": "stream",
     "text": [
      "18. My spouse and I have similar ideas about how marriage should be\n"
     ]
    },
    {
     "name": "stdin",
     "output_type": "stream",
     "text": [
      "answer:  4\n"
     ]
    },
    {
     "name": "stdout",
     "output_type": "stream",
     "text": [
      "19. My spouse and I have similar ideas about how roles should be in marriage\n"
     ]
    },
    {
     "name": "stdin",
     "output_type": "stream",
     "text": [
      "answer:  4\n"
     ]
    },
    {
     "name": "stdout",
     "output_type": "stream",
     "text": [
      "20. My spouse and I have similar values in trust.\n"
     ]
    },
    {
     "name": "stdin",
     "output_type": "stream",
     "text": [
      "answer:  4\n"
     ]
    },
    {
     "name": "stdout",
     "output_type": "stream",
     "text": [
      "21. I know exactly what my wife likes.\n"
     ]
    },
    {
     "name": "stdin",
     "output_type": "stream",
     "text": [
      "answer:  4\n"
     ]
    },
    {
     "name": "stdout",
     "output_type": "stream",
     "text": [
      "22. I know how my spouse wants to be taken care of when she/he sick.\n"
     ]
    },
    {
     "name": "stdin",
     "output_type": "stream",
     "text": [
      "answer:  4\n"
     ]
    },
    {
     "name": "stdout",
     "output_type": "stream",
     "text": [
      "23. I know my spouse's favorite food.\n"
     ]
    },
    {
     "name": "stdin",
     "output_type": "stream",
     "text": [
      "answer:  4\n"
     ]
    },
    {
     "name": "stdout",
     "output_type": "stream",
     "text": [
      "24. I can tell you what kind of stress my spouse is facing in her/his life.\n"
     ]
    },
    {
     "name": "stdin",
     "output_type": "stream",
     "text": [
      "answer:  4\n"
     ]
    },
    {
     "name": "stdout",
     "output_type": "stream",
     "text": [
      "25. I have knowledge of my spouse's inner world.\n"
     ]
    },
    {
     "name": "stdin",
     "output_type": "stream",
     "text": [
      "answer:  4\n"
     ]
    },
    {
     "name": "stdout",
     "output_type": "stream",
     "text": [
      "26. I know my spouse's basic anxieties.\n"
     ]
    },
    {
     "name": "stdin",
     "output_type": "stream",
     "text": [
      "answer:  4\n"
     ]
    },
    {
     "name": "stdout",
     "output_type": "stream",
     "text": [
      "27. I know what my spouse's current sources of stress are.\n"
     ]
    },
    {
     "name": "stdin",
     "output_type": "stream",
     "text": [
      "answer:  4\n"
     ]
    },
    {
     "name": "stdout",
     "output_type": "stream",
     "text": [
      "28. I know my spouse's hopes and wishes.\n"
     ]
    },
    {
     "name": "stdin",
     "output_type": "stream",
     "text": [
      "answer:  4\n"
     ]
    },
    {
     "name": "stdout",
     "output_type": "stream",
     "text": [
      "29. I know my spouse very well.\n"
     ]
    },
    {
     "name": "stdin",
     "output_type": "stream",
     "text": [
      "answer:  4\n"
     ]
    },
    {
     "name": "stdout",
     "output_type": "stream",
     "text": [
      "30. I know my spouse's friends and their social relationships.\n"
     ]
    },
    {
     "name": "stdin",
     "output_type": "stream",
     "text": [
      "answer:  4\n"
     ]
    },
    {
     "name": "stdout",
     "output_type": "stream",
     "text": [
      "31. I feel aggressive when I argue with my spouse.\n"
     ]
    },
    {
     "name": "stdin",
     "output_type": "stream",
     "text": [
      "answer:  0\n"
     ]
    },
    {
     "name": "stdout",
     "output_type": "stream",
     "text": [
      "32. When discussing with my spouse, I usually use expressions such as â€˜you alwaysâ€™ or â€˜you neverâ€™ .\n"
     ]
    },
    {
     "name": "stdin",
     "output_type": "stream",
     "text": [
      "answer:  0\n"
     ]
    },
    {
     "name": "stdout",
     "output_type": "stream",
     "text": [
      "33. I can use negative statements about my spouse's personality during our discussions.\n"
     ]
    },
    {
     "name": "stdin",
     "output_type": "stream",
     "text": [
      "answer:  0\n"
     ]
    },
    {
     "name": "stdout",
     "output_type": "stream",
     "text": [
      "34. I can use offensive expressions during our discussions.\n"
     ]
    },
    {
     "name": "stdin",
     "output_type": "stream",
     "text": [
      "answer:  0\n"
     ]
    },
    {
     "name": "stdout",
     "output_type": "stream",
     "text": [
      "35. I can insult my spouse during our discussions.\n"
     ]
    },
    {
     "name": "stdin",
     "output_type": "stream",
     "text": [
      "answer:  0\n"
     ]
    },
    {
     "name": "stdout",
     "output_type": "stream",
     "text": [
      "36. I can be humiliating when we discussions.\n"
     ]
    },
    {
     "name": "stdin",
     "output_type": "stream",
     "text": [
      "answer:  0\n"
     ]
    },
    {
     "name": "stdout",
     "output_type": "stream",
     "text": [
      "37. My discussion with my spouse is not calm.\n"
     ]
    },
    {
     "name": "stdin",
     "output_type": "stream",
     "text": [
      "answer:  0\n"
     ]
    },
    {
     "name": "stdout",
     "output_type": "stream",
     "text": [
      "38. I hate my spouse's way of open a subject.\n"
     ]
    },
    {
     "name": "stdin",
     "output_type": "stream",
     "text": [
      "answer:  0\n"
     ]
    },
    {
     "name": "stdout",
     "output_type": "stream",
     "text": [
      "39. Our discussions often occur suddenly.\n"
     ]
    },
    {
     "name": "stdin",
     "output_type": "stream",
     "text": [
      "answer:  0\n"
     ]
    },
    {
     "name": "stdout",
     "output_type": "stream",
     "text": [
      "40. We're just starting a discussion before I know what's going on.\n"
     ]
    },
    {
     "name": "stdin",
     "output_type": "stream",
     "text": [
      "answer:  0\n"
     ]
    },
    {
     "name": "stdout",
     "output_type": "stream",
     "text": [
      "41. When I talk to my spouse about something, my calm suddenly breaks.\n"
     ]
    },
    {
     "name": "stdin",
     "output_type": "stream",
     "text": [
      "answer:  0\n"
     ]
    },
    {
     "name": "stdout",
     "output_type": "stream",
     "text": [
      "42. When I argue with my spouse, Ä± only go out and I don't say a word.\n"
     ]
    },
    {
     "name": "stdin",
     "output_type": "stream",
     "text": [
      "answer:  0\n"
     ]
    },
    {
     "name": "stdout",
     "output_type": "stream",
     "text": [
      "43. I mostly stay silent to calm the environment a little bit.\n"
     ]
    },
    {
     "name": "stdin",
     "output_type": "stream",
     "text": [
      "answer:  4\n"
     ]
    },
    {
     "name": "stdout",
     "output_type": "stream",
     "text": [
      "44. Sometimes I think it's good for me to leave home for a while.\n"
     ]
    },
    {
     "name": "stdin",
     "output_type": "stream",
     "text": [
      "answer:  0\n"
     ]
    },
    {
     "name": "stdout",
     "output_type": "stream",
     "text": [
      "45. I'd rather stay silent than discuss with my spouse.\n"
     ]
    },
    {
     "name": "stdin",
     "output_type": "stream",
     "text": [
      "answer:  4\n"
     ]
    },
    {
     "name": "stdout",
     "output_type": "stream",
     "text": [
      "46. Even if I'm right in the discussion, I stay silent to hurt my spouse.\n"
     ]
    },
    {
     "name": "stdin",
     "output_type": "stream",
     "text": [
      "answer:  3\n"
     ]
    },
    {
     "name": "stdout",
     "output_type": "stream",
     "text": [
      "47. When I discuss with my spouse, I stay silent because I am afraid of not being able to control my anger.\n"
     ]
    },
    {
     "name": "stdin",
     "output_type": "stream",
     "text": [
      "answer:  0\n"
     ]
    },
    {
     "name": "stdout",
     "output_type": "stream",
     "text": [
      "48. I feel right in our discussions.\n"
     ]
    },
    {
     "name": "stdin",
     "output_type": "stream",
     "text": [
      "answer:  2\n"
     ]
    },
    {
     "name": "stdout",
     "output_type": "stream",
     "text": [
      "49. I have nothing to do with what I've been accused of.\n"
     ]
    },
    {
     "name": "stdin",
     "output_type": "stream",
     "text": [
      "answer:  1\n"
     ]
    },
    {
     "name": "stdout",
     "output_type": "stream",
     "text": [
      "50. I'm not actually the one who's guilty about what I'm accused of.\n"
     ]
    },
    {
     "name": "stdin",
     "output_type": "stream",
     "text": [
      "answer:  1\n"
     ]
    },
    {
     "name": "stdout",
     "output_type": "stream",
     "text": [
      "51. I'm not the one who's wrong about problems at home.\n"
     ]
    },
    {
     "name": "stdin",
     "output_type": "stream",
     "text": [
      "answer:  0\n"
     ]
    },
    {
     "name": "stdout",
     "output_type": "stream",
     "text": [
      "52. I wouldn't hesitate to tell my spouse about her/his inadequacy.\n"
     ]
    },
    {
     "name": "stdin",
     "output_type": "stream",
     "text": [
      "answer:  2\n"
     ]
    },
    {
     "name": "stdout",
     "output_type": "stream",
     "text": [
      "53. When I discuss, I remind my spouse of her/his inadequacy.\n"
     ]
    },
    {
     "name": "stdin",
     "output_type": "stream",
     "text": [
      "answer:  0\n"
     ]
    },
    {
     "name": "stdout",
     "output_type": "stream",
     "text": [
      "54. I'm not afraid to tell my spouse about her/his incompetence.\n"
     ]
    },
    {
     "name": "stdin",
     "output_type": "stream",
     "text": [
      "answer:  0\n"
     ]
    },
    {
     "name": "stdout",
     "output_type": "stream",
     "text": [
      "\n",
      "\n",
      "Well, i've got bad news for you\n"
     ]
    }
   ],
   "source": [
    "Pred = request('http://localhost:5000/api', features = Questions())\n",
    "print()\n",
    "print()\n",
    "print(Pred)"
   ]
  }
 ],
 "metadata": {
  "kernelspec": {
   "display_name": "Python 3",
   "language": "python",
   "name": "python3"
  },
  "language_info": {
   "codemirror_mode": {
    "name": "ipython",
    "version": 3
   },
   "file_extension": ".py",
   "mimetype": "text/x-python",
   "name": "python",
   "nbconvert_exporter": "python",
   "pygments_lexer": "ipython3",
   "version": "3.7.10"
  }
 },
 "nbformat": 4,
 "nbformat_minor": 5
}
